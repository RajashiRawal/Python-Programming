{
 "cells": [
  {
   "cell_type": "markdown",
   "metadata": {},
   "source": [
    "# Week 1 Assignment\n",
    "In this week 1, we studied on the basics of Python and made a 'Hello World' program. We learned about how it worked with functions, variables, and different types of data like lists, tuples, and dictionaries. We also come to know about managing how things happen in order, using if statements, while loops such as lists looping, find max and min values, and combining a items of list into a single string and different range on lists where this includes append (add), pop (remove), count, insert, extend, copy, and clearing the elements."
   ]
  },
  {
   "cell_type": "markdown",
   "metadata": {},
   "source": [
    "# This is my First Hello World Program"
   ]
  },
  {
   "cell_type": "code",
   "execution_count": 3,
   "metadata": {},
   "outputs": [
    {
     "name": "stdout",
     "output_type": "stream",
     "text": [
      "hello world\n",
      "5 10\n"
     ]
    }
   ],
   "source": [
    "hello = \"hello world\"\n",
    "print(hello)\n",
    "a = 5\n",
    "b = 10\n",
    "print(a, b)"
   ]
  },
  {
   "cell_type": "code",
   "execution_count": 4,
   "metadata": {},
   "outputs": [
    {
     "name": "stdout",
     "output_type": "stream",
     "text": [
      "13\n",
      "Rajash  Rawal\n",
      "R\n",
      "l\n",
      "Rajash  Rawal Rajash  Rawal\n"
     ]
    }
   ],
   "source": [
    "name = 'Rajashi Rawal'\n",
    "\n",
    "total_no_of_Char = len(name)\n",
    "print(total_no_of_Char)\n",
    "\n",
    "first_name = name[0:6]\n",
    "last_name = name[7:]\n",
    "print(first_name, last_name)\n",
    "\n",
    "first_char = name[0]\n",
    "print(first_char)\n",
    "\n",
    "last_char = name[len(name)-1]\n",
    "print(last_char)\n",
    "\n",
    "full_name = first_name + \" \" + last_name\n",
    "full_name1 = f\"{first_name} {last_name}\"\n",
    "print(full_name, full_name1)"
   ]
  },
  {
   "cell_type": "code",
   "execution_count": 2,
   "metadata": {},
   "outputs": [
    {
     "name": "stdout",
     "output_type": "stream",
     "text": [
      "13 raj ashi rawal r l\n"
     ]
    }
   ],
   "source": [
    "name='rajashi rawal'\n",
    "total_no_of_charts= len(name)\n",
    "first_name = name[0:3]\n",
    "last_name = name[3:]\n",
    "first_char=name[0]\n",
    "last_char = name[len(name)-1]\n",
    "print(total_no_of_charts,first_name, last_name,first_char, last_char   )"
   ]
  },
  {
   "cell_type": "markdown",
   "metadata": {},
   "source": [
    "# flow control\n",
    "# conditional statement\n",
    "- if\n",
    "- elif\n",
    "- else"
   ]
  },
  {
   "cell_type": "code",
   "execution_count": 8,
   "metadata": {},
   "outputs": [
    {
     "name": "stdout",
     "output_type": "stream",
     "text": [
      "I have to wakeup at 5:00 am\n",
      "I have to go to office\n",
      "Its Wednesday\n"
     ]
    }
   ],
   "source": [
    "day = 4\n",
    "if day == 4:\n",
    "    print(\"I have to wakeup at 5:00 am\")\n",
    "    print(\"I have to go to office\")\n",
    "    print(\"Its Wednesday\")\n",
    "elif day ==5:\n",
    "    print(\"Its thursday\")\n",
    "else:\n",
    "    print(\"Weekend\")"
   ]
  },
  {
   "cell_type": "code",
   "execution_count": 9,
   "metadata": {},
   "outputs": [
    {
     "name": "stdout",
     "output_type": "stream",
     "text": [
      "a is less than b\n"
     ]
    }
   ],
   "source": [
    "a = 5\n",
    "b = 10\n",
    "if a>b:\n",
    "    print(\"a is greater than b\")\n",
    "else:\n",
    "    print(\"a is less than b\")"
   ]
  },
  {
   "cell_type": "code",
   "execution_count": 9,
   "metadata": {},
   "outputs": [
    {
     "name": "stdout",
     "output_type": "stream",
     "text": [
      "It's Math class\n"
     ]
    }
   ],
   "source": [
    "# 10 => 'math'\n",
    "# 12 => 'dsa'\n",
    "# 14 => 'english'\n",
    "time = 10\n",
    "if time>=10 and time<12:\n",
    "    print(\"It's Math class\")\n",
    "elif time>=12 and time<14:\n",
    "    print(\"It's DSA class\")\n",
    "elif time>14:\n",
    "    print(\"It's English class\")\n",
    "else:\n",
    "    print(\"Just started my day\")"
   ]
  },
  {
   "cell_type": "markdown",
   "metadata": {},
   "source": [
    "# Loops (iteration)\n",
    "# While loop\n",
    "# For loop"
   ]
  },
  {
   "cell_type": "code",
   "execution_count": 2,
   "metadata": {},
   "outputs": [
    {
     "name": "stdout",
     "output_type": "stream",
     "text": [
      "Hello 1\n",
      "Hello 2\n",
      "Hello 3\n",
      "Hello 4\n",
      "Hello 5\n",
      "Hello 6\n",
      "Hello 7\n",
      "Hello 8\n",
      "Hello 9\n",
      "Hello 10\n"
     ]
    }
   ],
   "source": [
    "from time import sleep\n",
    "counter = 1\n",
    "while counter <= 10:\n",
    "    print(f\"Hello {counter}\") # print(\"Hello\" + str(counter)) number lai string sanga add garna mikldaina so str lekheko\n",
    "    counter += 1\n",
    "    sleep(1)\n"
   ]
  },
  {
   "cell_type": "code",
   "execution_count": 19,
   "metadata": {},
   "outputs": [
    {
     "name": "stdout",
     "output_type": "stream",
     "text": [
      "5050\n"
     ]
    }
   ],
   "source": [
    "# find the sum of first n = 100 natural using while loop\n",
    "\n",
    "# counter = 1\n",
    "# sum = 0\n",
    "# while counter <= 100:\n",
    "#     print(f\"Hello {counter}\" )\n",
    "# sum += counter\n",
    "# counter += 1\n",
    "\n",
    "i = 0\n",
    "n = 100\n",
    "sum = 0\n",
    "while i<=n:\n",
    "    sum += i\n",
    "    i+=1\n",
    "print(sum)"
   ]
  },
  {
   "cell_type": "code",
   "execution_count": 23,
   "metadata": {},
   "outputs": [
    {
     "name": "stdout",
     "output_type": "stream",
     "text": [
      "2550\n"
     ]
    }
   ],
   "source": [
    "#find the sum of first n even numbers, n=100 using while loop\n",
    "\n",
    "i = 1\n",
    "n = 100\n",
    "sum_of_even_number = 0\n",
    "while i<=n:\n",
    "    if i%2 ==0:\n",
    "      sum_of_even_number+=i\n",
    "    i+=1\n",
    "\n",
    "print(sum)\n"
   ]
  },
  {
   "cell_type": "markdown",
   "metadata": {},
   "source": [
    "Python List\n",
    "list is ordered collection of items"
   ]
  },
  {
   "cell_type": "code",
   "execution_count": 1,
   "metadata": {},
   "outputs": [
    {
     "name": "stdout",
     "output_type": "stream",
     "text": [
      "1\n",
      "6\n",
      "5\n"
     ]
    }
   ],
   "source": [
    "numbers = [1,2,3,4,5,5]\n",
    "students = ['Ram', 'Hari']\n",
    "\n",
    "#access elements from list\n",
    "first_number =  numbers[0]\n",
    "print(first_number)\n",
    "#count total number of items\n",
    "total_items = len(numbers)\n",
    "print(total_items)\n",
    "#last element\n",
    "last_element = numbers[total_items-1]\n",
    "print(last_element)"
   ]
  },
  {
   "cell_type": "markdown",
   "metadata": {},
   "source": [
    "# list methods\n",
    "- append (appends new item at the end)\n",
    "- pop (removes last element)\n",
    "- count (return total number of appearances the items)\n",
    "- insert (insert item at particular index)\n",
    "- extend (entend the list)\n",
    "- copy (copies the items)\n",
    "- clear (delete all items)"
   ]
  },
  {
   "cell_type": "code",
   "execution_count": 4,
   "metadata": {},
   "outputs": [
    {
     "name": "stdout",
     "output_type": "stream",
     "text": [
      "[1, 2, 3, 4, 5, 6, 7]\n",
      "[1, 2, 3, 4, 5, 6, 7, 8]\n",
      "[1, 2, 3, 4, 5, 6, 7]\n",
      "[1, 2, 3, 4, 6, 7]\n",
      "1\n",
      "[1, 2, 3, 4]\n",
      "[]\n"
     ]
    }
   ],
   "source": [
    "numbers= [1,2,3,4,5,6,7]\n",
    "print(numbers)\n",
    "#append item\n",
    "numbers.append(8)\n",
    "print(numbers)\n",
    "#remove last item\n",
    "numbers.pop()\n",
    "print(numbers)\n",
    "#remove\n",
    "numbers.remove(5)\n",
    "print(numbers)\n",
    "#insert\n",
    "numbers.insert(2,10)\n",
    "#count\n",
    "print(numbers.count(1))\n",
    "#extend\n",
    "numbers_1=[1,2]\n",
    "numbers_2=[3,4]\n",
    "numbers_1.extend(numbers_2)\n",
    "print(numbers_1)\n",
    "#clear\n",
    "numbers_1.clear()\n",
    "print(numbers_1)"
   ]
  },
  {
   "cell_type": "code",
   "execution_count": 4,
   "metadata": {},
   "outputs": [
    {
     "name": "stdout",
     "output_type": "stream",
     "text": [
      "['Ram', 'Hari', 'Gopal']\n",
      "6 5\n",
      "['Ram', 'Hari']\n",
      "Ram exist in student\n"
     ]
    }
   ],
   "source": [
    "students = ['Ram', 'Hari']\n",
    "new_students =  students\n",
    "students.append('Gopal')\n",
    "print(new_students)\n",
    "\n",
    "\n",
    "a = 5\n",
    "b = a\n",
    "a = a+1\n",
    "print(a,b)\n",
    "\n",
    "students = ['Ram','Hari']\n",
    "new_students = students.copy()\n",
    "students.append('Gopal')\n",
    "print(new_students)\n",
    "\n",
    "#check value exist in list\n",
    "if 'Ram' in students:\n",
    "    print('Ram exist in student')\n",
    "\n"
   ]
  },
  {
   "cell_type": "markdown",
   "metadata": {},
   "source": [
    "# Loop through list"
   ]
  },
  {
   "cell_type": "code",
   "execution_count": 6,
   "metadata": {},
   "outputs": [
    {
     "name": "stdout",
     "output_type": "stream",
     "text": [
      "27\n"
     ]
    }
   ],
   "source": [
    "#find the sum of all items of given list\n",
    "\n",
    "numbers = [1,2,3,4,5,6,6]\n",
    "total_items = len(numbers)\n",
    "index = 0\n",
    "sum = 0\n",
    "while index<total_items:\n",
    "    sum += numbers[index]\n",
    "    index+=1\n",
    "print(sum)\n",
    "\n"
   ]
  },
  {
   "cell_type": "code",
   "execution_count": 17,
   "metadata": {},
   "outputs": [
    {
     "name": "stdout",
     "output_type": "stream",
     "text": [
      "1009\n"
     ]
    }
   ],
   "source": [
    "#find the max value from the given list\n",
    "\n",
    "numbers = [-10,3,9,-50,100,1009]\n",
    "\n",
    "index = 0\n",
    "total_items = len(numbers)\n",
    "max_value = numbers [0]\n",
    "while index < total_items:\n",
    "    item = numbers[index]\n",
    "    if item > max_value:\n",
    "        max_value = item\n",
    "    index+=1\n",
    "\n",
    "print(max_value)"
   ]
  },
  {
   "cell_type": "code",
   "execution_count": 7,
   "metadata": {},
   "outputs": [
    {
     "name": "stdout",
     "output_type": "stream",
     "text": [
      "-50\n"
     ]
    }
   ],
   "source": [
    "#find the minimum value from the given list\n",
    "\n",
    "numbers = [-10, 3, 9, -50, 100, 1009]\n",
    "index = 0\n",
    "total_items = len(numbers)\n",
    "min_value = numbers[0]\n",
    "while index < total_items:\n",
    "    item = numbers[index]\n",
    "    if item < min_value:\n",
    "        min_value = item\n",
    "    index += 1\n",
    "print(min_value)"
   ]
  },
  {
   "cell_type": "markdown",
   "metadata": {},
   "source": [
    "# Join all list items into single string"
   ]
  },
  {
   "cell_type": "code",
   "execution_count": 2,
   "metadata": {},
   "outputs": [
    {
     "name": "stdout",
     "output_type": "stream",
     "text": [
      "Ram-Hari-Gopal\n"
     ]
    }
   ],
   "source": [
    "students = ['Ram', 'Hari','Gopal']\n",
    "all_students = '-'.join(students)\n",
    "print(all_students)"
   ]
  }
 ],
 "metadata": {
  "kernelspec": {
   "display_name": "Python 3",
   "language": "python",
   "name": "python3"
  },
  "language_info": {
   "codemirror_mode": {
    "name": "ipython",
    "version": 3
   },
   "file_extension": ".py",
   "mimetype": "text/x-python",
   "name": "python",
   "nbconvert_exporter": "python",
   "pygments_lexer": "ipython3",
   "version": "3.12.4"
  }
 },
 "nbformat": 4,
 "nbformat_minor": 2
}
